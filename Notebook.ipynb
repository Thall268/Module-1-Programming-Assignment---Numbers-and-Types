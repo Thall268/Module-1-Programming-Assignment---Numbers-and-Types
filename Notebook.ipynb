{
 "cells": [
  {
   "cell_type": "code",
   "execution_count": 1,
   "id": "cdc473e1ade81653",
   "metadata": {
    "ExecuteTime": {
     "end_time": "2025-03-16T00:34:56.189840Z",
     "start_time": "2025-03-16T00:34:56.180839Z"
    }
   },
   "outputs": [
    {
     "name": "stdout",
     "output_type": "stream",
     "text": [
      "Seconds per hour: 3600\n",
      "Number of seconds in a day: 86400\n",
      "Floating point division:,(seconds_per_day/seconds_per_hour): 24.0\n",
      "Integer division: 24.0\n",
      "Not Matched\n"
     ]
    }
   ],
   "source": [
    "#3.1 - 3.2: Calculate the number of seconds in a hour\n",
    "\n",
    "Seconds_in_minutes = 60\n",
    "minutes_in_hour = 60\n",
    "seconds_per_hour = 60*60\n",
    "print(\"Seconds per hour:\", seconds_per_hour)\n",
    "\n",
    "#3.3 - 3.4: Calculate the number of seconds in a day using seconds_per_hour\n",
    "\n",
    "hours_in_day = 24\n",
    "seconds_per_day = seconds_per_hour * hours_in_day\n",
    "print (\"Number of seconds in a day:\", seconds_per_day)\n",
    "\n",
    "#3.5: Perform floating-point division\n",
    "\n",
    "int_division = seconds_per_day / seconds_per_hour\n",
    "print (\"Floating point division:,(seconds_per_day/seconds_per_hour):\", int_division)\n",
    "\n",
    "#3.6: Preform integer division\n",
    "\n",
    "int_division = seconds_per_day / seconds_per_hour\n",
    "print (\"Integer division:\", int_division)\n",
    "\n",
    "# Integer division matches floating point division (ignore .0)\n",
    "\n",
    "if float(int_division) != int_division:\n",
    "    print(\"Matches\")\n",
    "else:\n",
    "    print(\"Not Matched\")\n"
   ]
  },
  {
   "cell_type": "code",
   "execution_count": null,
   "id": "26d127810357fe9d",
   "metadata": {
    "ExecuteTime": {
     "end_time": "2025-03-16T00:34:46.065445Z",
     "start_time": "2025-03-16T00:34:46.057827Z"
    }
   },
   "outputs": [],
   "source": []
  },
  {
   "cell_type": "code",
   "execution_count": null,
   "id": "47dd225fce48114a",
   "metadata": {},
   "outputs": [],
   "source": []
  }
 ],
 "metadata": {
  "kernelspec": {
   "display_name": "Python 3 (ipykernel)",
   "language": "python",
   "name": "python3"
  },
  "language_info": {
   "codemirror_mode": {
    "name": "ipython",
    "version": 3
   },
   "file_extension": ".py",
   "mimetype": "text/x-python",
   "name": "python",
   "nbconvert_exporter": "python",
   "pygments_lexer": "ipython3",
   "version": "3.12.9"
  }
 },
 "nbformat": 4,
 "nbformat_minor": 5
}
